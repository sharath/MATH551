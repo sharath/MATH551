{
 "cells": [
  {
   "cell_type": "code",
   "execution_count": null,
   "metadata": {},
   "outputs": [],
   "source": [
    "% I rewrote the function from Q6 in matlab to do question 7\n",
    "function [ xk, resout ] = my_cg(A, b, x0, tol, nmax)\n",
    "\tr0 = b - A * x0;\n",
    "\td0 = dot(r0, r0); \n",
    "\tbd = dot(b, b);\n",
    "\tp0 = r0;\n",
    "    fprintf('%s \\n','k      ||r_{k}||_{2}');\n",
    "    fprintf('%s \\n','-------------------');\n",
    "\tfor k = 1:nmax\n",
    "        resout(k,1) = k-1;\n",
    "        resout(k,2) = norm(b-A*x0,2);\n",
    "        fprintf ('%d     %e     \\n',k-1,norm(r0,2) )\n",
    "        sk = A * p0;    \n",
    "        ak = d0 / dot(p0, sk);\n",
    "        xk = x0 + ak * p0;\n",
    "        rk = r0 - ak * sk;\n",
    "        dk = dot(rk, rk);         \n",
    "        pk = rk + (dk / d0) * p0;\n",
    "        if(dk < tol^2 * bd)\n",
    "            fprintf ('%d     %e     \\n',k,norm(rk,2) );\n",
    "            resout(k,1) = k;\n",
    "            resout(k,2) = norm(b-A*xk,2);\n",
    "            break\n",
    "        end\n",
    "        x0 = xk;\n",
    "        r0 = rk;\n",
    "        p0 = pk;\n",
    "        d0 = dk;\n",
    "\tend\n",
    "end"
   ]
  },
  {
   "cell_type": "code",
   "execution_count": 1,
   "metadata": {},
   "outputs": [
    {
     "name": "stdout",
     "output_type": "stream",
     "text": [
      "Enter password: ········\n",
      "Verify password: ········\n"
     ]
    },
    {
     "data": {
      "text/plain": [
       "'sha1:f5a09c4bcf40:33721fd04265501abe9b5389ef24bff341d8b3b2'"
      ]
     },
     "execution_count": 1,
     "metadata": {},
     "output_type": "execute_result"
    }
   ],
   "source": [
    "from notebook.auth import passwd;\n",
    "passwd()\n"
   ]
  },
  {
   "cell_type": "code",
   "execution_count": null,
   "metadata": {},
   "outputs": [],
   "source": [
    "% Set up the problem\n",
    "n = 500;\n",
    "one = ones(n,1);\n",
    "A = 0.5 * spdiags([ one one 2*(1:n)' one one],-2:2,n,n);\n",
    "b = one;\n",
    "x0 = zeros(n,1);\n",
    "params.pcg.tol = 10e-13;\n",
    "params.pcg.nmax = 10e10;\n",
    "\n",
    "% Employing the CG method from Q6 to solve Ax = b\n",
    "fprintf('\\n\\nOutput for CG method from Q6:\\n');\n",
    "[ xk1, resout1 ] = my_cg(A, b, x0, params.pcg.tol, params.pcg.nmax);\n",
    "\n",
    "% Employing tse PCG method with Jacobi M = D\n",
    "fprintf('\\n\\nOutput for PCG method with Jacobi (M = D): \\n');\n",
    "M = diag(diag(A));\n",
    "[ xk2, resout2 ] = my_pcg(A, b, x0, M, params);\n",
    "\n",
    "% Employing the PCG method with Gauss-Seidel M = (I + LD?1) (D + U)\n",
    "fprintf('\\n\\nOutput for PCG method with Gauss-Seidel (M = (I + LD^-1) (D + U)): \\n');\n",
    "D = diag(diag(A));\n",
    "L = tril(A) - D;\n",
    "U = triu(A) - D;\n",
    "M = (eye(n) + (L*inv(D)))*(D+U);\n",
    "[ xk3, resout3 ] = my_pcg(A, b, x0, M, params);\n",
    "\n",
    "% Plotting errors vs step number\n",
    "figure\n",
    "semilogy(resout1,'^-r')\n",
    "hold on;\n",
    "semilogy(resout2,'s-b')\n",
    "hold on;\n",
    "semilogy(resout3,'V-g')\n",
    "hold off;"
   ]
  }
 ],
 "metadata": {
  "kernelspec": {
   "display_name": "Python 3",
   "language": "python",
   "name": "python3"
  },
  "language_info": {
   "codemirror_mode": {
    "name": "ipython",
    "version": 3
   },
   "file_extension": ".py",
   "mimetype": "text/x-python",
   "name": "python",
   "nbconvert_exporter": "python",
   "pygments_lexer": "ipython3",
   "version": "3.6.4"
  }
 },
 "nbformat": 4,
 "nbformat_minor": 2
}
