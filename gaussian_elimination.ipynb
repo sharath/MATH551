{
 "cells": [
  {
   "cell_type": "code",
   "execution_count": 1,
   "metadata": {
    "collapsed": true
   },
   "outputs": [],
   "source": [
    "# representing matrices as dictionaries for easier access\n",
    "def mapMatrix(rows):\n",
    "    matrix = {}\n",
    "    for i in range(len(rows)):\n",
    "        for j in range(len(rows[i])):\n",
    "            matrix[(i+1,j+1)] = float(rows[i][j])\n",
    "    return matrix"
   ]
  },
  {
   "cell_type": "code",
   "execution_count": 2,
   "metadata": {
    "collapsed": true
   },
   "outputs": [],
   "source": [
    "# performs gaussian elimination on a mapMatrix\n",
    "def gElim(A, b):\n",
    "    n = len(b)+1\n",
    "    L = {}\n",
    "    for k in range(1, n-1):\n",
    "        for i in range(k+1, n):\n",
    "            L[i, k] = A[i, k]/A[k, k]\n",
    "            for j in range(k, n):\n",
    "                A[i,j] = A[i,j] - L[i,k]*A[k,j]\n",
    "            b[i,1] = b[i,1] - L[i,k]*b[k,1]\n",
    "    return A, b"
   ]
  },
  {
   "cell_type": "code",
   "execution_count": 49,
   "metadata": {
    "collapsed": true
   },
   "outputs": [],
   "source": [
    "# performs back substitution on a mapMatrix\n",
    "def backSub(A, b):\n",
    "    n = len(b)+1\n",
    "    x = {}\n",
    "    for k in range(n-1,0,-1):\n",
    "        x[k, 1] = b[k, 1]\n",
    "        for j in range(k+1,n):\n",
    "            x[k,1] = x[k,1] - A[k, j]*x[j, 1] \n",
    "        x[k,1] = x[k,1]/A[k,k]\n",
    "    return x"
   ]
  },
  {
   "cell_type": "code",
   "execution_count": 76,
   "metadata": {
    "collapsed": true
   },
   "outputs": [],
   "source": [
    "def residual(A, b, xh):\n",
    "    n = len(b)+1\n",
    "    r = {}\n",
    "    Axh = {}\n",
    "    res = 0\n",
    "    for i in range(1, n):\n",
    "        Axh[i, 1] = 0\n",
    "        for j in range(1, n):\n",
    "            Axh[i, 1] = Axh[i, 1] + A[i, j]*xh[j, 1]\n",
    "        r[i, 1] = b[i, 1] - Axh[i, 1]\n",
    "        res = res + r[i, 1]**2\n",
    "    print(r)\n",
    "    return res**0.5"
   ]
  },
  {
   "cell_type": "code",
   "execution_count": 77,
   "metadata": {},
   "outputs": [],
   "source": [
    "# represent problem\n",
    "A = mapMatrix([[1,1,0,1],[2,1,-1,1],[4,-1,-2,2],[3,-1,-1,1]])\n",
    "b = mapMatrix([[2],[1],[0],[-3]])"
   ]
  },
  {
   "cell_type": "code",
   "execution_count": 78,
   "metadata": {},
   "outputs": [],
   "source": [
    "# solve problem\n",
    "A1, b1 = gElim(dict(A), dict(b))\n",
    "xh = backSub(A1, b1)"
   ]
  },
  {
   "cell_type": "code",
   "execution_count": 79,
   "metadata": {},
   "outputs": [
    {
     "name": "stdout",
     "output_type": "stream",
     "text": [
      "{(1, 1): 0.0, (2, 1): 0.0, (3, 1): 1.7763568394002505e-15, (4, 1): 8.881784197001252e-16}\n"
     ]
    },
    {
     "data": {
      "text/plain": [
       "1.9860273225978185e-15"
      ]
     },
     "execution_count": 79,
     "metadata": {},
     "output_type": "execute_result"
    }
   ],
   "source": [
    "# print answer\n",
    "residual(A, b, xh)"
   ]
  },
  {
   "cell_type": "code",
   "execution_count": null,
   "metadata": {
    "collapsed": true
   },
   "outputs": [],
   "source": []
  },
  {
   "cell_type": "code",
   "execution_count": null,
   "metadata": {
    "collapsed": true
   },
   "outputs": [],
   "source": []
  },
  {
   "cell_type": "code",
   "execution_count": null,
   "metadata": {
    "collapsed": true
   },
   "outputs": [],
   "source": []
  }
 ],
 "metadata": {
  "kernelspec": {
   "display_name": "Python 3",
   "language": "python",
   "name": "python3"
  },
  "language_info": {
   "codemirror_mode": {
    "name": "ipython",
    "version": 3
   },
   "file_extension": ".py",
   "mimetype": "text/x-python",
   "name": "python",
   "nbconvert_exporter": "python",
   "pygments_lexer": "ipython3",
   "version": "3.6.3"
  }
 },
 "nbformat": 4,
 "nbformat_minor": 2
}
