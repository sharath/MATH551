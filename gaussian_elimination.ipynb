{
 "cells": [
  {
   "cell_type": "code",
   "execution_count": 1,
   "metadata": {
    "collapsed": true
   },
   "outputs": [],
   "source": [
    "# convert array to dict to follow book algorithm more closely\n",
    "def mapMatrix(m):\n",
    "    mM = {}\n",
    "    for i in range(len(m)):\n",
    "        for j in range(len(m[i])):\n",
    "            mM[i+1, j+1] = m[i][j]\n",
    "    return mM"
   ]
  },
  {
   "cell_type": "code",
   "execution_count": 2,
   "metadata": {},
   "outputs": [],
   "source": [
    "# performs backsub on A, b\n",
    "def backSub(A, b):\n",
    "    # size of square matrix\n",
    "    n = int(len(A)**(0.5))\n",
    "    x = mapMatrix([[0]*n])\n",
    "    for k in range(n, 0, -1):\n",
    "        x[k, 1] = b[k, 1]\n",
    "        for j in range(k+1, n+1):\n",
    "            x[k, 1] -= A[k, j]*x[j, 1]\n",
    "        x[k, 1] /= A[k, k]\n",
    "    return x"
   ]
  },
  {
   "cell_type": "code",
   "execution_count": 3,
   "metadata": {
    "collapsed": true
   },
   "outputs": [],
   "source": [
    "# return results of gaussian elimination\n",
    "def gaussianElim(A0, b0):\n",
    "    # dont modify input matrix\n",
    "    A = dict(A0)\n",
    "    b = dict(b0)\n",
    "    # size of square matrix\n",
    "    n = int(len(A)**(0.5))\n",
    "    L = mapMatrix([[0]*n] * n)\n",
    "    for k in range(1, n):\n",
    "        for i in range(k+1, n+1):\n",
    "            L[i, k] = A[i, k]/A[k, k]\n",
    "            for j in range(k, n+1):\n",
    "                A[i,j] = A[i,j] - L[i,k]*A[k,j]\n",
    "            b[i,1] = b[i,1] - L[i,k]*b[k,1]\n",
    "    return A, b"
   ]
  },
  {
   "cell_type": "code",
   "execution_count": 4,
   "metadata": {
    "collapsed": true
   },
   "outputs": [],
   "source": [
    "# calculate l2 norm of residual\n",
    "def l2res(A, x, b):\n",
    "    n = int(len(A)**(0.5))\n",
    "    err = mapMatrix([[0]]*n)\n",
    "    Ax = mapMatrix([[0]]*n)\n",
    "    res = 0\n",
    "    # calculate Ax\n",
    "    for i in range(1, n+1):\n",
    "        for j in range(1, n+1):\n",
    "            Ax[i, 1] += A[i, j]*x[j, 1]\n",
    "    # calulate b - Ax\n",
    "    for i in range(1, n+1):\n",
    "        err[i, 1] = b[i, 1] - Ax[i, 1]\n",
    "    # calculate and return l2 norm of b - Ax\n",
    "    for v in err.values():\n",
    "        res += v**2\n",
    "    return res**0.5"
   ]
  },
  {
   "cell_type": "code",
   "execution_count": 5,
   "metadata": {},
   "outputs": [],
   "source": [
    "def my_linsolver(A, b):\n",
    "    A1, b1 = gaussianElim(A, b)\n",
    "    x = backSub(A1, b1)\n",
    "    err = l2res(A, x, b)\n",
    "    print(\"x is: \", x, \"\\nwith err:\", err)"
   ]
  },
  {
   "cell_type": "code",
   "execution_count": 6,
   "metadata": {},
   "outputs": [],
   "source": [
    "def problem1():\n",
    "    print(\"Question 1:\")\n",
    "    # test 3x3 matrix\n",
    "    print(\"3x3 test matrix results:\")\n",
    "    my_linsolver(mapMatrix([[3,1,4],[0,1,-2],[1,2,-1]]),\n",
    "             mapMatrix([[6],[-3],[-2]]))\n",
    "    # 4x4 matrix\n",
    "    print(\"4x4 matrix results:\")\n",
    "    my_linsolver(mapMatrix([[1,1,0,1],[2,1,-1,1],[4,-1,-2,2],[3,-1,-1,1]]),\n",
    "             mapMatrix([[2],[1],[0],[-3]]))"
   ]
  },
  {
   "cell_type": "code",
   "execution_count": 7,
   "metadata": {
    "collapsed": true
   },
   "outputs": [],
   "source": [
    "# return lu decomposition of input matrix A0\n",
    "def luDecomp(A0):\n",
    "    # don't modify input\n",
    "    A = dict(A0)\n",
    "    # size of square matrix\n",
    "    n = int(len(A)**(0.5))\n",
    "    L = mapMatrix([[0]*n] * n)\n",
    "    # fill diagonal with 1s\n",
    "    for i in range(n):\n",
    "        L[i+1, i+1] = 1\n",
    "\n",
    "    for k in range(1, n):\n",
    "        for i in range(k+1, n+1):\n",
    "            L[i, k] = A[i, k]/A[k, k]\n",
    "            for j in range(k, n+1):\n",
    "                A[i,j] = A[i,j] - L[i,k]*A[k,j]\n",
    "    return L, A"
   ]
  },
  {
   "cell_type": "code",
   "execution_count": 8,
   "metadata": {
    "collapsed": true
   },
   "outputs": [],
   "source": [
    "# performs forward substitution\n",
    "def forSub(A, b):\n",
    "    # size of square matrix\n",
    "    n = int(len(A)**(0.5))\n",
    "    x = mapMatrix([[0]*n])\n",
    "    for k in range(1, n+1):\n",
    "        x[k, 1] = b[k, 1]\n",
    "        for j in range(1, k):\n",
    "            x[k, 1] -= A[k, j]*x[j, 1]\n",
    "        x[k, 1] /= A[k, k]\n",
    "    return x"
   ]
  },
  {
   "cell_type": "code",
   "execution_count": 9,
   "metadata": {
    "collapsed": true
   },
   "outputs": [],
   "source": [
    "def my_linsolver_lu(A, b):\n",
    "    # obtain LU\n",
    "    L, U = luDecomp(A)\n",
    "    # solve Ly = b\n",
    "    y = forSub(L, b)\n",
    "    # solve Ux = y\n",
    "    x = backSub(U, y)\n",
    "    err = l2res(A, x, b)\n",
    "    print(\"x is: \", x, \"\\nwith err:\", err)"
   ]
  },
  {
   "cell_type": "code",
   "execution_count": 10,
   "metadata": {},
   "outputs": [],
   "source": [
    "def problem2():\n",
    "    print(\"Question 2:\")\n",
    "    \n",
    "    # 4x4 matrix\n",
    "    print(\"4x4 matrix results using LU decomposition:\")\n",
    "    my_linsolver_lu(mapMatrix([[1,1,0,1],[2,1,-1,1],[4,-1,-2,2],[3,-1,-1,1]]),\n",
    "             mapMatrix([[2],[1],[0],[-3]]))"
   ]
  },
  {
   "cell_type": "code",
   "execution_count": 11,
   "metadata": {},
   "outputs": [
    {
     "name": "stdout",
     "output_type": "stream",
     "text": [
      "Question 1:\n",
      "3x3 test matrix results:\n",
      "x is:  {(1, 1): 1.0000000000000009, (1, 2): 0, (1, 3): 0, (3, 1): 0.9999999999999996, (2, 1): -1.0000000000000009} \n",
      "with err: 4.440892098500626e-16\n",
      "4x4 matrix results:\n",
      "x is:  {(1, 1): -2.666666666666667, (1, 2): 0, (1, 3): 0, (1, 4): 0, (4, 1): 4.0, (3, 1): -1.6666666666666667, (2, 1): 0.666666666666667} \n",
      "with err: 1.9860273225978185e-15\n",
      "Question 2:\n",
      "4x4 matrix results using LU decomposition:\n",
      "x is:  {(1, 1): -2.666666666666667, (1, 2): 0, (1, 3): 0, (1, 4): 0, (4, 1): 4.0, (3, 1): -1.6666666666666667, (2, 1): 0.666666666666667} \n",
      "with err: 1.9860273225978185e-15\n"
     ]
    }
   ],
   "source": [
    "problem1()\n",
    "problem2()"
   ]
  }
 ],
 "metadata": {
  "kernelspec": {
   "display_name": "Python 3",
   "language": "python",
   "name": "python3"
  },
  "language_info": {
   "codemirror_mode": {
    "name": "ipython",
    "version": 3
   },
   "file_extension": ".py",
   "mimetype": "text/x-python",
   "name": "python",
   "nbconvert_exporter": "python",
   "pygments_lexer": "ipython3",
   "version": "3.6.3"
  }
 },
 "nbformat": 4,
 "nbformat_minor": 2
}
