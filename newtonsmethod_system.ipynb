{
 "cells": [
  {
   "cell_type": "code",
   "execution_count": 7,
   "metadata": {},
   "outputs": [
    {
     "name": "stdout",
     "output_type": "stream",
     "text": [
      "It took 4 iterations to find x and y to satify the stopping criteria.\n",
      " The computed value is (0.215761, -0.379541)\n"
     ]
    }
   ],
   "source": [
    "import numpy as np\n",
    "\n",
    "\n",
    "def f(x, y):\n",
    "    return x + y - 2 * x * y\n",
    "\n",
    "\n",
    "def dfx(x, y):\n",
    "    return 1 - 2 * y\n",
    "\n",
    "\n",
    "def dfy(x, y):\n",
    "    return 1 - 2 * x\n",
    "\n",
    "\n",
    "def g(x, y):\n",
    "    return x ** 2 + y ** 2 - 2 * x + 2 * y + 1\n",
    "\n",
    "\n",
    "def dgx(x, y):\n",
    "    return 2 * x - 2\n",
    "\n",
    "\n",
    "def dgy(x, y):\n",
    "    return 2 * y + 2\n",
    "\n",
    "\n",
    "def newm(x0, y0, tol):\n",
    "    # keep track of previous value\n",
    "    prev = np.array([x0, y0])\n",
    "\n",
    "    # calculate the first value\n",
    "    x = x0 - ((f(x0, y0) * dgy(x0, y0) - g(x0, y0) * dfy(x0, y0)) /\n",
    "              (dfx(x0, y0) * dgy(x0, y0) - dfy(x0, y0) * dgx(x0, y0)))\n",
    "    y = y0 - ((g(x0, y0) * dfx(x0, y0) - f(x0, y0) * dgx(x0, y0)) /\n",
    "              (dfx(x0, y0) * dgy(x0, y0) - dfy(x0, y0) * dgx(x0, y0)))\n",
    "    cur = np.array([x, y])\n",
    "\n",
    "    # variable for keeping track of iterations\n",
    "    k = 1\n",
    "\n",
    "    # termination criteria\n",
    "    while np.linalg.norm(cur - prev) > (tol * (1 + np.linalg.norm(cur))):\n",
    "        # store previous values\n",
    "        prev = np.array([x, y])\n",
    "\n",
    "        # calculate the next value\n",
    "        x = x - ((f(x, y) * dgy(x, y) - g(x, y) * dfy(x, y)) /\n",
    "                 (dfx(x, y) * dgy(x, y) - dfy(x, y) * dgx(x, y)))\n",
    "        y = y - ((g(x, y) * dfx(x, y) - f(x, y) * dgx(x, y)) /\n",
    "                 (dfx(x, y) * dgy(x, y) - dfy(x, y) * dgx(x, y)))\n",
    "        cur = np.array([x, y])\n",
    "\n",
    "        # increment iteration number\n",
    "        k += 1\n",
    "\n",
    "    return x, y, k\n",
    "\n",
    "\n",
    "x, y, k = newm(0.1, -0.5, 10e-10)\n",
    "print(\"It took %d iterations to find x and y to satify the stopping criteria.\"\n",
    "      \"\\n The computed value is (%f, %f)\" % (k, x, y))\n"
   ]
  },
  {
   "cell_type": "code",
   "execution_count": 8,
   "metadata": {},
   "outputs": [
    {
     "data": {
      "text/plain": [
       "(0.21576091563162214, -0.37954125153315116, 4)"
      ]
     },
     "execution_count": 8,
     "metadata": {},
     "output_type": "execute_result"
    }
   ],
   "source": [
    "newm(0.1, -0.5, 10e-10)"
   ]
  },
  {
   "cell_type": "code",
   "execution_count": 9,
   "metadata": {},
   "outputs": [
    {
     "data": {
      "text/plain": [
       "0.0"
      ]
     },
     "execution_count": 9,
     "metadata": {},
     "output_type": "execute_result"
    }
   ],
   "source": [
    "f(0.21576091563162214, -0.37954125153315116)"
   ]
  },
  {
   "cell_type": "code",
   "execution_count": 10,
   "metadata": {},
   "outputs": [
    {
     "data": {
      "text/plain": [
       "1.1102230246251565e-16"
      ]
     },
     "execution_count": 10,
     "metadata": {},
     "output_type": "execute_result"
    }
   ],
   "source": [
    "g(0.21576091563162214, -0.37954125153315116)"
   ]
  },
  {
   "cell_type": "code",
   "execution_count": null,
   "metadata": {
    "collapsed": true
   },
   "outputs": [],
   "source": []
  }
 ],
 "metadata": {
  "kernelspec": {
   "display_name": "Python 3",
   "language": "python",
   "name": "python3"
  },
  "language_info": {
   "codemirror_mode": {
    "name": "ipython",
    "version": 3
   },
   "file_extension": ".py",
   "mimetype": "text/x-python",
   "name": "python",
   "nbconvert_exporter": "python",
   "pygments_lexer": "ipython3",
   "version": "3.6.3"
  }
 },
 "nbformat": 4,
 "nbformat_minor": 2
}
