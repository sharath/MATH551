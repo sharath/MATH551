{
 "cells": [
  {
   "cell_type": "code",
   "execution_count": 164,
   "metadata": {},
   "outputs": [],
   "source": [
    "import numpy as np"
   ]
  },
  {
   "cell_type": "code",
   "execution_count": 165,
   "metadata": {},
   "outputs": [],
   "source": [
    "def my_cg(A, b, x0, tol, nmax):\n",
    "    # r0 = b - A*x0\n",
    "    r0 = b - A.dot(x0)\n",
    "    # d0 = dot(r0, r0)\n",
    "    d0 = r0.transpose().dot(r0)\n",
    "    # bd = dot(b, b)\n",
    "    bd = b.transpose().dot(b)\n",
    "    p0 = r0\n",
    "    for k in range(nmax):\n",
    "        # sk = A*p0\n",
    "        sk = A.dot(p0)\n",
    "        # ak = d0 / dot(p0, sk)\n",
    "        ak = d0 / p0.transpose().dot(sk)\n",
    "        # xk - x0 + ak*p0\n",
    "        xk = x0 + (ak * p0)\n",
    "        # rk = r0 - ak*sk\n",
    "        rk = r0 - (ak * sk)\n",
    "        # dk = dot(rk, rk)\n",
    "        dk = rk.transpose().dot(rk)\n",
    "        # pk = rk + (dk / d0) * pk\n",
    "        pk = rk + (dk / d0) * p0\n",
    "        if (dk < tol**2 * bd):\n",
    "            return xk, rk, k\n",
    "        x0 = xk\n",
    "        r0 = rk\n",
    "        p0 = pk\n",
    "        d0 = dk\n",
    "    return xk, rk, nmax"
   ]
  },
  {
   "cell_type": "code",
   "execution_count": 166,
   "metadata": {},
   "outputs": [],
   "source": [
    "A = np.array([[2, -1, 0],[-1,2,-1],[0,-1,2]])\n",
    "b = np.array([[5],[-2],[2]])\n",
    "x0 = np.array([[0],[0],[0]])\n",
    "tol = 10e-10\n",
    "nmax = 10**10"
   ]
  },
  {
   "cell_type": "code",
   "execution_count": 160,
   "metadata": {},
   "outputs": [],
   "source": [
    "xk, res, iterations = my_cg(A, b, x0, tol, nmax)"
   ]
  },
  {
   "cell_type": "code",
   "execution_count": 161,
   "metadata": {},
   "outputs": [
    {
     "data": {
      "text/plain": [
       "array([[3.25],\n",
       "       [1.5 ],\n",
       "       [1.75]])"
      ]
     },
     "execution_count": 161,
     "metadata": {},
     "output_type": "execute_result"
    }
   ],
   "source": [
    "xk"
   ]
  },
  {
   "cell_type": "code",
   "execution_count": 162,
   "metadata": {},
   "outputs": [
    {
     "data": {
      "text/plain": [
       "array([[-7.77156117e-16],\n",
       "       [ 1.02695630e-15],\n",
       "       [-1.11022302e-15]])"
      ]
     },
     "execution_count": 162,
     "metadata": {},
     "output_type": "execute_result"
    }
   ],
   "source": [
    "res"
   ]
  },
  {
   "cell_type": "code",
   "execution_count": 163,
   "metadata": {},
   "outputs": [
    {
     "data": {
      "text/plain": [
       "2"
      ]
     },
     "execution_count": 163,
     "metadata": {},
     "output_type": "execute_result"
    }
   ],
   "source": [
    "iterations"
   ]
  }
 ],
 "metadata": {
  "kernelspec": {
   "display_name": "Python 3",
   "language": "python",
   "name": "python3"
  },
  "language_info": {
   "codemirror_mode": {
    "name": "ipython",
    "version": 3
   },
   "file_extension": ".py",
   "mimetype": "text/x-python",
   "name": "python",
   "nbconvert_exporter": "python",
   "pygments_lexer": "ipython3",
   "version": "3.6.4"
  }
 },
 "nbformat": 4,
 "nbformat_minor": 2
}
