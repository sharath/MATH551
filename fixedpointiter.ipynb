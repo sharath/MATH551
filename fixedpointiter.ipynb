{
 "cells": [
  {
   "cell_type": "code",
   "execution_count": 1,
   "metadata": {
    "collapsed": true
   },
   "outputs": [],
   "source": [
    "import math\n",
    "import numpy as np\n",
    "\n",
    "e = math.exp(1)\n",
    "\n",
    "def fixedpt(g, x0, tol, ilim=100):\n",
    "    i = 0\n",
    "    while abs(x0 - g(x0)) > tol and i < ilim:\n",
    "        x0 = g(x0)\n",
    "        i += 1\n",
    "    return (x0,i)"
   ]
  },
  {
   "cell_type": "code",
   "execution_count": 14,
   "metadata": {
    "collapsed": true
   },
   "outputs": [],
   "source": [
    "e = math.exp(1)\n",
    "def g1(x):\n",
    "    return (0.5*e**x)**(0.5)\n",
    "\n",
    "def g2(x):\n",
    "    return -1*(0.5*e**x)**(0.5)\n",
    "\n",
    "def g3(x):\n",
    "    return np.log(abs(2*x**2))\n",
    "\n",
    "def g4(x):\n",
    "    return (2/3.0)*x + x**(-2)"
   ]
  },
  {
   "cell_type": "code",
   "execution_count": 24,
   "metadata": {},
   "outputs": [
    {
     "name": "stdout",
     "output_type": "stream",
     "text": [
      "Calculated Value:  1.442249570307412 \n",
      " Number of Iterations:  33\n"
     ]
    }
   ],
   "source": [
    "val, it = fixedpt(g4,-33333,1e-10)\n",
    "print(\"Calculated Value: \", val, \"\\n Number of Iterations: \", it)"
   ]
  },
  {
   "cell_type": "code",
   "execution_count": 22,
   "metadata": {},
   "outputs": [
    {
     "name": "stdout",
     "output_type": "stream",
     "text": [
      "1.4422495703074083\n"
     ]
    }
   ],
   "source": [
    "print(3**(1/3))"
   ]
  }
 ],
 "metadata": {
  "kernelspec": {
   "display_name": "Python 3",
   "language": "python",
   "name": "python3"
  },
  "language_info": {
   "codemirror_mode": {
    "name": "ipython",
    "version": 3
   },
   "file_extension": ".py",
   "mimetype": "text/x-python",
   "name": "python",
   "nbconvert_exporter": "python",
   "pygments_lexer": "ipython3",
   "version": "3.6.4"
  }
 },
 "nbformat": 4,
 "nbformat_minor": 2
}
