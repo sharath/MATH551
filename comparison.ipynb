{
 "cells": [
  {
   "cell_type": "code",
   "execution_count": 18,
   "metadata": {
    "collapsed": true
   },
   "outputs": [],
   "source": [
    "import math\n",
    "import numpy as np"
   ]
  },
  {
   "cell_type": "code",
   "execution_count": 19,
   "metadata": {
    "collapsed": true
   },
   "outputs": [],
   "source": [
    "def secm(f, x0, x1, tol):                          # arguments are: f(x), x_0, x_1, and error\n",
    "    xk = x1 - ((f(x1)*(x1-x0))/(f(x1)-f(x0)))      # calculate the first value of xk+1 using the secant method\n",
    "    i = 1                                          # variable to keep track of iteration\n",
    "    while abs(f(xk)) > tol:                        # the error is how far away f(xk+1) is from 0\n",
    "        x0 = x1                                    # set xk-1 to xk\n",
    "        x1 = xk                                    # set xk to xk+1 before we calculate a new value for xk+1\n",
    "        xk = x1 - ((f(x1)*(x1-x0))/(f(x1)-f(x0)))  # calculate the next value of xk using the secant method\n",
    "        i += 1                                     # increment the iteration number\n",
    "    return xk, i                                   # return the last calulated value of x and the iteration"
   ]
  },
  {
   "cell_type": "code",
   "execution_count": 20,
   "metadata": {
    "collapsed": true
   },
   "outputs": [],
   "source": [
    "def newm(f, df, x0, tol):    # arguments are: f(x), df(x)/dx, x_0, and error\n",
    "    x = x0 - f(x0) / df(x0)  # calculate the next value of x using newton's method\n",
    "    i = 1                    # variable to keep track of iteration\n",
    "    while abs(f(x)) > tol:   # the error is how far away f(x) is from 0\n",
    "        x = x - f(x) / df(x) # calculate the next value of x using newton's method\n",
    "        i += 1               # increment the iteration number\n",
    "    return x, i              # return the last calulated value of x and the iteration"
   ]
  },
  {
   "cell_type": "code",
   "execution_count": 21,
   "metadata": {
    "collapsed": true
   },
   "outputs": [],
   "source": [
    "def fixedpt(g, x0, tol):        # arguments are: g(x), x_0, and error\n",
    "    x = g(x0)                   # calculate the first value of x with g(x)\n",
    "    i = 1                       # variable to keep track of iteration\n",
    "    while abs(x - g(x)) > tol:  # the error is the x - g(x) because we're solving x = g(x)\n",
    "        x = g(x)                # calculate the next value of x with g(x)\n",
    "        i += 1                  # increment the iteration number\n",
    "    return (x, i)               # return the last calulated value of x and the iteration"
   ]
  },
  {
   "cell_type": "code",
   "execution_count": 22,
   "metadata": {
    "collapsed": true
   },
   "outputs": [],
   "source": [
    "def f(x):\n",
    "    return x+np.log(x)          # f(x) = x + ln(x)\n",
    "\n",
    "def df(x):\n",
    "    return 1.0+(1/x)            # f'(x) = 1 + 1/x\n",
    "\n",
    "def g(x):\n",
    "    return math.exp(-x)         # g(x) = e^-x"
   ]
  },
  {
   "cell_type": "code",
   "execution_count": 23,
   "metadata": {},
   "outputs": [
    {
     "name": "stdout",
     "output_type": "stream",
     "text": [
      "Root with Secant Method: 0.567143290409997\n",
      "Iterations with Secant Method: 4\n",
      "\n",
      "Root with Newton's Method: 0.567143290399369\n",
      "Iterations with Newton's Method: 3\n",
      "\n",
      "Root with Fixed Point: 0.567143290920314\n",
      "Iterations with Fixed Point: 33\n",
      "\n"
     ]
    }
   ],
   "source": [
    "xstar, i = secm(f, 0.5, 0.6, 10e-10)\n",
    "print(\"Root with Secant Method: %.15f\\nIterations with Secant Method: %d\\n\" % (xstar, i))\n",
    "xstar, i = newm(f, df, 0.5, 10e-10)\n",
    "print(\"Root with Newton's Method: %.15f\\nIterations with Newton's Method: %d\\n\" % (xstar, i))\n",
    "xstar, i = fixedpt(g, 0.5, 10e-10)\n",
    "print(\"Root with Fixed Point: %.15f\\nIterations with Fixed Point: %d\\n\" % (xstar, i))\n"
   ]
  }
 ],
 "metadata": {
  "kernelspec": {
   "display_name": "Python 3",
   "language": "python",
   "name": "python3"
  },
  "language_info": {
   "codemirror_mode": {
    "name": "ipython",
    "version": 3
   },
   "file_extension": ".py",
   "mimetype": "text/x-python",
   "name": "python",
   "nbconvert_exporter": "python",
   "pygments_lexer": "ipython3",
   "version": "3.6.3"
  }
 },
 "nbformat": 4,
 "nbformat_minor": 2
}
