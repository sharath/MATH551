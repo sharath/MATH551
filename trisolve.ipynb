{
 "cells": [
  {
   "cell_type": "code",
   "execution_count": 46,
   "metadata": {},
   "outputs": [],
   "source": [
    "def lu(a, b, c):\n",
    "    # don't modify input a\n",
    "    n = len(a)\n",
    "    u = list(a)\n",
    "    l = [0]*n\n",
    "    for k in range(0, n-1):\n",
    "        l[k+1]=(b[k]/u[k])\n",
    "        u[k+1] -= l[k+1]*c[k]\n",
    "    return l, u\n",
    "\n",
    "# solve Ly = f\n",
    "def forSub(l, f):\n",
    "    n = len(l)\n",
    "    y = [0]*n\n",
    "    y[0] = f[0]\n",
    "    for k in range(1, n):\n",
    "        y[k] = f[k] - l[k]*y[k-1]\n",
    "    return y\n",
    "\n",
    "#solve Ux = f\n",
    "def backSub(u, y):\n",
    "    n = len(u)\n",
    "    x = [0]*n\n",
    "    for i in range(0, n):\n",
    "        x[i] = y[i]/u[i]\n",
    "    for i in range(n-2, -1, -1):\n",
    "        x[i] = (y[i]-(c[i]*x[i+1]))/u[i]\n",
    "    return x"
   ]
  },
  {
   "cell_type": "code",
   "execution_count": 48,
   "metadata": {},
   "outputs": [
    {
     "name": "stdout",
     "output_type": "stream",
     "text": [
      "[1.0, 1.0, 0.9999999999999999, 1.0, 1.0]\n"
     ]
    }
   ],
   "source": [
    "a = [2, 2, 2, 2, 2]\n",
    "b = [-1, -1, -1, -1, -1]\n",
    "c = [-1, -1, -1, -1, -1]\n",
    "f = [1, 0, 0, 0, 1]\n",
    "l, u = lu(a, b, c)\n",
    "y = forSub(l, f)\n",
    "x = backSub(u, y)\n",
    "print(x)"
   ]
  },
  {
   "cell_type": "code",
   "execution_count": null,
   "metadata": {
    "collapsed": true
   },
   "outputs": [],
   "source": []
  },
  {
   "cell_type": "code",
   "execution_count": null,
   "metadata": {
    "collapsed": true
   },
   "outputs": [],
   "source": []
  }
 ],
 "metadata": {
  "kernelspec": {
   "display_name": "Python 3",
   "language": "python",
   "name": "python3"
  },
  "language_info": {
   "codemirror_mode": {
    "name": "ipython",
    "version": 3
   },
   "file_extension": ".py",
   "mimetype": "text/x-python",
   "name": "python",
   "nbconvert_exporter": "python",
   "pygments_lexer": "ipython3",
   "version": "3.6.3"
  }
 },
 "nbformat": 4,
 "nbformat_minor": 2
}
