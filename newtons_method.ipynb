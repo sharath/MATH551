{
 "cells": [
  {
   "cell_type": "code",
   "execution_count": null,
   "metadata": {},
   "outputs": [],
   "source": [
    "import math\n",
    "import numpy as np"
   ]
  },
  {
   "cell_type": "code",
   "execution_count": null,
   "metadata": {},
   "outputs": [],
   "source": [
    "def newm(f, df, x0, tol):\n",
    "    # variable for current iteration\n",
    "    x = x0\n",
    "    # the error is how far away f(x) is from 0\n",
    "    while abs(f(x)) > tol:\n",
    "        # calculate the next value of x using newton's method\n",
    "        x = x - f(x) / df(x)\n",
    "    # return the last calulated value of x\n",
    "    return x"
   ]
  },
  {
   "cell_type": "code",
   "execution_count": null,
   "metadata": {},
   "outputs": [],
   "source": [
    "# f(x) as given in the problem\n",
    "def f(x):\n",
    "    return 10*np.cosh(x/4)-1\n",
    "\n",
    "# df(x)/dx for f(x) given in the problem\n",
    "def df(x):\n",
    "    return 2.5*np.sinh(x/4)\n",
    "\n",
    "# output for x0 = 2\n",
    "print(\"When x0 is 2, Newton's Method yields:\",newm(f,df,2,1e-10))\n",
    "# output for x0 = 500\n",
    "print(\"When x0 is 500, Newton's Method yields:\",newm(f,df,5,1e-10))"
   ]
  }
 ],
 "metadata": {
  "kernelspec": {
   "display_name": "Python 3",
   "language": "python",
   "name": "python3"
  },
  "language_info": {
   "codemirror_mode": {
    "name": "ipython",
    "version": 3
   },
   "file_extension": ".py",
   "mimetype": "text/x-python",
   "name": "python",
   "nbconvert_exporter": "python",
   "pygments_lexer": "ipython3",
   "version": "3.6.4"
  }
 },
 "nbformat": 4,
 "nbformat_minor": 2
}
